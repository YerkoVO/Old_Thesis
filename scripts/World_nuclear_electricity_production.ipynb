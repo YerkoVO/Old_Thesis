{
 "cells": [
  {
   "cell_type": "code",
   "execution_count": null,
   "metadata": {},
   "outputs": [],
   "source": [
    "import pandas as pd\n",
    "import matplotlib.pyplot as plt"
   ]
  },
  {
   "cell_type": "code",
   "execution_count": null,
   "metadata": {},
   "outputs": [],
   "source": [
    "df = pd.read_csv(\"C:/Users/Yerko/Desktop/Electricity DataSets/7_owid.csv\")\n",
    "print(df.head)"
   ]
  },
  {
   "cell_type": "code",
   "execution_count": null,
   "metadata": {},
   "outputs": [],
   "source": [
    "\n",
    "unique_countries = df['country'].unique()\n",
    "filtered_countries = [country for country in unique_countries if all(suffix not in country for suffix in ['IEA', 'Ember', 'OECD', 'EU', 'CIS', 'World'])]\n",
    "\n",
    "filtered_countries\n"
   ]
  },
  {
   "cell_type": "code",
   "execution_count": null,
   "metadata": {},
   "outputs": [],
   "source": [
    "\n",
    "regions = {\n",
    "    'Africa': [],\n",
    "    'Asia': [],\n",
    "    'Russia': ['Russia'],\n",
    "    'North America': [],\n",
    "    'South America': [],\n",
    "    'East Europe': [],\n",
    "    'West Europe': []\n",
    "}\n",
    "\n",
    "for country in filtered_countries:\n",
    "    if country in ['Algeria', 'Angola', 'Benin', 'Botswana', 'Burkina Faso', 'Burundi', 'Cameroon', 'Cape Verde',\n",
    "                   'Central African Republic', 'Chad', 'Comoros', 'Congo', 'Djibouti', 'Egypt', 'Equatorial Guinea',\n",
    "                   'Eritrea', 'Eswatini', 'Ethiopia', 'Gabon', 'Gambia', 'Ghana', 'Guinea', 'Guinea-Bissau', 'Ivory Coast',\n",
    "                   'Kenya', 'Lesotho', 'Liberia', 'Libya', 'Madagascar', 'Malawi', 'Mali', 'Mauritania', 'Mauritius',\n",
    "                   'Morocco', 'Mozambique', 'Namibia', 'Niger', 'Nigeria', 'Rwanda', 'Sao Tome and Principe', 'Senegal',\n",
    "                   'Seychelles', 'Sierra Leone', 'Somalia', 'South Africa', 'South Sudan', 'Sudan', 'Tanzania', 'Togo',\n",
    "                   'Tunisia', 'Uganda', 'Zambia', 'Zimbabwe']:\n",
    "        regions['Africa'].append(country)\n",
    "    elif country in ['Afghanistan', 'Armenia', 'Azerbaijan', 'Bahrain', 'Bangladesh', 'Bhutan', 'Brunei', 'Cambodia',\n",
    "                     'China', 'Cyprus', 'Georgia', 'India', 'Indonesia', 'Iran', 'Iraq', 'Israel', 'Japan', 'Jordan',\n",
    "                     'Kazakhstan', 'Kuwait', 'Kyrgyzstan', 'Laos', 'Lebanon', 'Malaysia', 'Maldives', 'Mongolia',\n",
    "                     'Myanmar', 'Nepal', 'North Korea', 'Oman', 'Pakistan', 'Palestine', 'Philippines', 'Qatar', 'Saudi Arabia',\n",
    "                     'Singapore', 'South Korea', 'Sri Lanka', 'Syria', 'Taiwan', 'Tajikistan', 'Thailand', 'Timor-Leste',\n",
    "                     'Turkey', 'Turkmenistan', 'United Arab Emirates', 'Uzbekistan', 'Vietnam', 'Yemen']:\n",
    "        regions['Asia'].append(country)\n",
    "    elif country in ['Canada', 'United States', 'Mexico', 'Greenland', 'Bermuda']:\n",
    "        regions['North America'].append(country)\n",
    "    elif country in ['Argentina', 'Bolivia', 'Brazil', 'Chile', 'Colombia', 'Ecuador', 'Guyana', 'Paraguay', 'Peru',\n",
    "                     'Suriname', 'Uruguay', 'Venezuela']:\n",
    "        regions['South America'].append(country)\n",
    "    elif country in ['Albania', 'Bosnia and Herzegovina', 'Bulgaria', 'Croatia', 'Czechia', 'Estonia', 'Hungary',\n",
    "                     'Kosovo', 'Latvia', 'Lithuania', 'Macedonia', 'Moldova', 'Montenegro', 'Poland', 'Romania', \n",
    "                     'Serbia', 'Slovakia', 'Slovenia', 'Ukraine', 'Belarus']:\n",
    "        regions['East Europe'].append(country)\n",
    "    elif country in ['Austria', 'Belgium', 'Cyprus', 'Denmark', 'Finland', 'France', 'Germany', 'Greece', 'Iceland',\n",
    "                     'Ireland', 'Italy', 'Luxembourg', 'Malta', 'Netherlands', 'Norway', 'Portugal', 'Spain', 'Sweden',\n",
    "                     'Switzerland', 'United Kingdom']:\n",
    "        regions['West Europe'].append(country)\n",
    "\n",
    "regions\n"
   ]
  },
  {
   "cell_type": "code",
   "execution_count": null,
   "metadata": {},
   "outputs": [],
   "source": [
    "\n",
    "filtered_data = df[df['year'] >= 1985]\n",
    "\n",
    "region_electricity = pd.DataFrame()\n",
    "\n",
    "for region, countries in regions.items():\n",
    "    region_data = filtered_data[filtered_data['country'].isin(countries)]\n",
    "    \n",
    "    aggregated_data = region_data.groupby('year')['nuclear_electricity'].sum().rename(region)\n",
    "    \n",
    "    if region_electricity.empty:\n",
    "        region_electricity = aggregated_data.to_frame()\n",
    "    else:\n",
    "        region_electricity = region_electricity.join(aggregated_data, how='outer')\n",
    "\n",
    "region_electricity.head()\n",
    "\n"
   ]
  },
  {
   "cell_type": "code",
   "execution_count": null,
   "metadata": {},
   "outputs": [],
   "source": [
    "\n",
    "\n",
    "desired_order = ['Africa', 'Asia', 'Russia', 'North America', 'South America', 'East Europe', 'West Europe']\n",
    "colors = ['#DAF7A6', '#3A80F5', '#87D7CD', '#BC2424', '#62350E', '#9581C9', '#FFD700']\n",
    "labels = [\n",
    "    'Nuclear Electricity from Africa',\n",
    "    'Nuclear Electricity from Asia',\n",
    "    'Nuclear Electricity from Russia',\n",
    "    'Nuclear Electricity from North America',\n",
    "    'Nuclear Electricity from South America',\n",
    "    'Nuclear Electricity from East Europe',\n",
    "    'Nuclear Electricity from West Europe'\n",
    "]\n",
    "\n",
    "plt.figure(figsize=(18, 10))\n",
    "ax = plt.gca()\n",
    "bottom = 0\n",
    "\n",
    "for region, color, label in zip(desired_order, colors, labels):\n",
    "    plt.bar(region_electricity.index, region_electricity[region], bottom=bottom, color=color, label=label)\n",
    "    bottom += region_electricity[region]\n",
    "\n",
    "plt.title('Nuclear Electricity Production by Region', fontsize=16, fontweight='bold')\n",
    "plt.ylabel('Electricity Production (TWh)', fontsize=14)\n",
    "plt.xlabel('Year', fontsize=14)\n",
    "plt.xticks(rotation=45)\n",
    "plt.legend(loc='upper left')\n",
    "plt.grid(True, linestyle='--', which='both', color='grey', alpha=0.5)\n",
    "plt.tight_layout()\n",
    "\n",
    "plt.show()\n"
   ]
  }
 ],
 "metadata": {
  "kernelspec": {
   "display_name": "Python 3",
   "language": "python",
   "name": "python3"
  },
  "language_info": {
   "codemirror_mode": {
    "name": "ipython",
    "version": 3
   },
   "file_extension": ".py",
   "mimetype": "text/x-python",
   "name": "python",
   "nbconvert_exporter": "python",
   "pygments_lexer": "ipython3",
   "version": "3.11.7"
  }
 },
 "nbformat": 4,
 "nbformat_minor": 2
}
