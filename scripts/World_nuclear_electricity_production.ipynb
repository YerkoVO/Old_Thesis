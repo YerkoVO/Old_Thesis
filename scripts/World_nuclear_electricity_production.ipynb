{
 "cells": [
  {
   "cell_type": "code",
   "execution_count": null,
   "metadata": {},
   "outputs": [],
   "source": [
    "import pandas as pd\n",
    "import matplotlib.pyplot as plt\n",
    "import numpy as np\n",
    "import re"
   ]
  },
  {
   "cell_type": "code",
   "execution_count": null,
   "metadata": {},
   "outputs": [],
   "source": [
    "df = pd.read_csv(\"C:/Users/Yerko/Desktop/datasets/Owid.csv\")\n",
    "print(df.head)"
   ]
  },
  {
   "cell_type": "code",
   "execution_count": null,
   "metadata": {},
   "outputs": [],
   "source": [
    "\n",
    "unique_countries = df['country'].unique()\n",
    "\n",
    "pattern = re.compile(r\"\\s+\\((EIA|Ember|Shift|EI|World)\\)$\")\n",
    "\n",
    "filtered_countries = [country for country in unique_countries if not pattern.search(country)]\n",
    "\n",
    "filtered_countries"
   ]
  },
  {
   "cell_type": "code",
   "execution_count": null,
   "metadata": {},
   "outputs": [],
   "source": [
    "\n",
    "regions = {\n",
    "    'Africa': [],\n",
    "    'Asia': [],\n",
    "    'Russia': ['Russia'],\n",
    "    'North America': [],\n",
    "    'South America': [],\n",
    "    'East Europe': [],\n",
    "    'West Europe': []\n",
    "}\n",
    "\n",
    "for country in filtered_countries:\n",
    "    if country in ['Algeria', 'Angola', 'Benin', 'Botswana', 'Burkina Faso', 'Burundi', 'Cameroon', 'Cape Verde',\n",
    "                   'Central African Republic', 'Chad', 'Comoros', 'Congo', 'Djibouti', 'Egypt', 'Equatorial Guinea',\n",
    "                   'Eritrea', 'Eswatini', 'Ethiopia', 'Gabon', 'Gambia', 'Ghana', 'Guinea', 'Guinea-Bissau', 'Ivory Coast',\n",
    "                   'Kenya', 'Lesotho', 'Liberia', 'Libya', 'Madagascar', 'Malawi', 'Mali', 'Mauritania', 'Mauritius',\n",
    "                   'Morocco', 'Mozambique', 'Namibia', 'Niger', 'Nigeria', 'Rwanda', 'Sao Tome and Principe', 'Senegal',\n",
    "                   'Seychelles', 'Sierra Leone', 'Somalia', 'South Africa', 'South Sudan', 'Sudan', 'Tanzania', 'Togo',\n",
    "                   'Tunisia', 'Uganda', 'Zambia', 'Zimbabwe']:\n",
    "        regions['Africa'].append(country)\n",
    "    elif country in ['Afghanistan', 'Armenia', 'Azerbaijan', 'Bahrain', 'Bangladesh', 'Bhutan', 'Brunei', 'Cambodia',\n",
    "                     'China', 'Cyprus', 'Georgia', 'India', 'Indonesia', 'Iran', 'Iraq', 'Israel', 'Japan', 'Jordan',\n",
    "                     'Kazakhstan', 'Kuwait', 'Kyrgyzstan', 'Laos', 'Lebanon', 'Malaysia', 'Maldives', 'Mongolia',\n",
    "                     'Myanmar', 'Nepal', 'North Korea', 'Oman', 'Pakistan', 'Palestine', 'Philippines', 'Qatar', 'Saudi Arabia',\n",
    "                     'Singapore', 'South Korea', 'Sri Lanka', 'Syria', 'Taiwan', 'Tajikistan', 'Thailand', 'Timor-Leste',\n",
    "                     'Turkey', 'Turkmenistan', 'United Arab Emirates', 'Uzbekistan', 'Vietnam', 'Yemen']:\n",
    "        regions['Asia'].append(country)\n",
    "    elif country in ['Canada', 'United States', 'Mexico', 'Greenland', 'Bermuda']:\n",
    "        regions['North America'].append(country)\n",
    "    elif country in ['Argentina', 'Bolivia', 'Brazil', 'Chile', 'Colombia', 'Ecuador', 'Guyana', 'Paraguay', 'Peru',\n",
    "                     'Suriname', 'Uruguay', 'Venezuela']:\n",
    "        regions['South America'].append(country)\n",
    "    elif country in ['Albania', 'Bosnia and Herzegovina', 'Bulgaria', 'Croatia', 'Czechia', 'Estonia', 'Hungary',\n",
    "                     'Kosovo', 'Latvia', 'Lithuania', 'Macedonia', 'Moldova', 'Montenegro', 'Poland', 'Romania', \n",
    "                     'Serbia', 'Slovakia', 'Slovenia', 'Ukraine', 'Belarus']:\n",
    "        regions['East Europe'].append(country)\n",
    "    elif country in ['Austria', 'Belgium', 'Cyprus', 'Denmark', 'Finland', 'France', 'Germany', 'Greece', 'Iceland',\n",
    "                     'Ireland', 'Italy', 'Luxembourg', 'Malta', 'Netherlands', 'Norway', 'Portugal', 'Spain', 'Sweden',\n",
    "                     'Switzerland', 'United Kingdom']:\n",
    "        regions['West Europe'].append(country)\n",
    "\n",
    "regions\n"
   ]
  },
  {
   "cell_type": "code",
   "execution_count": null,
   "metadata": {},
   "outputs": [],
   "source": [
    "\n",
    "filtered_data = df[df['year'] >= 1985]\n",
    "\n",
    "region_electricity = pd.DataFrame()\n",
    "\n",
    "for region, countries in regions.items():\n",
    "    region_data = filtered_data[filtered_data['country'].isin(countries)]\n",
    "    \n",
    "    aggregated_data = region_data.groupby('year')['nuclear_electricity'].sum().rename(region)\n",
    "    \n",
    "    if region_electricity.empty:\n",
    "        region_electricity = aggregated_data.to_frame()\n",
    "    else:\n",
    "        region_electricity = region_electricity.join(aggregated_data, how='outer')\n",
    "\n",
    "region_electricity.head()\n",
    "\n"
   ]
  },
  {
   "cell_type": "code",
   "execution_count": null,
   "metadata": {},
   "outputs": [],
   "source": [
    "\n",
    "\n",
    "desired_order = ['Africa', 'Asia', 'Russia', 'North America', 'South America', 'East Europe', 'West Europe']\n",
    "colors = ['#DAF7A6', '#3A80F5', '#87D7CD', '#BC2424', '#62350E', '#9581C9', '#FFD700']\n",
    "labels = [\n",
    "    'Nuclear Electricity from Africa',\n",
    "    'Nuclear Electricity from Asia',\n",
    "    'Nuclear Electricity from Russia',\n",
    "    'Nuclear Electricity from North America',\n",
    "    'Nuclear Electricity from South America',\n",
    "    'Nuclear Electricity from East Europe',\n",
    "    'Nuclear Electricity from West Europe'\n",
    "]\n",
    "\n",
    "plt.figure(figsize=(18, 10))\n",
    "ax = plt.gca()\n",
    "bottom = 0\n",
    "\n",
    "for region, color, label in zip(desired_order, colors, labels):\n",
    "    plt.bar(region_electricity.index, region_electricity[region], bottom=bottom, color=color, label=label)\n",
    "    bottom += region_electricity[region]\n",
    "\n",
    "plt.title('Nuclear Electricity Production by Region', fontsize=16, fontweight='bold')\n",
    "plt.ylabel('Electricity Production (TWh)', fontsize=14)\n",
    "plt.xlabel('Year', fontsize=14)\n",
    "plt.xticks(rotation=45)\n",
    "plt.xlim(left=1984)\n",
    "plt.legend(loc='upper left')\n",
    "plt.grid(True, linestyle='--', which='both', color='grey', alpha=0.5)\n",
    "plt.tight_layout()\n",
    "\n",
    "plt.show()\n"
   ]
  },
  {
   "cell_type": "code",
   "execution_count": null,
   "metadata": {},
   "outputs": [],
   "source": [
    "data_S = region_electricity.iloc[:, :].loc[2022]\n",
    "\n",
    "print(\"Nuclear Electricity Production (in TWh):\")\n",
    "print(data_S)"
   ]
  },
  {
   "cell_type": "code",
   "execution_count": null,
   "metadata": {},
   "outputs": [],
   "source": [
    "forecast_path = \"C:/Users/Yerko/Desktop/results/Updated_Nuclear_Electricity_Forecasts.csv\"\n",
    "forecast_df = pd.read_csv(forecast_path)\n",
    "\n",
    "forecast_df.head()"
   ]
  },
  {
   "cell_type": "code",
   "execution_count": null,
   "metadata": {},
   "outputs": [],
   "source": [
    "forecast_df.rename(columns={'Year': 'year'}, inplace=True)\n",
    "\n",
    "combined_data = pd.concat([region_electricity, forecast_df.set_index('year')], axis=0)\n",
    "\n",
    "plt.figure(figsize=(18, 10))\n",
    "ax = plt.gca()\n",
    "bottom = np.zeros_like(combined_data.index, dtype=float)  \n",
    "\n",
    "for region, color, label in zip(desired_order, colors, labels):\n",
    "    historical_part = combined_data.loc[combined_data.index <= 2022, region]  \n",
    "    forecast_part = combined_data.loc[combined_data.index >= 2023, region]    \n",
    "\n",
    "    plt.bar(historical_part.index, historical_part, bottom=bottom[combined_data.index <= 2022], color=color, label=label)\n",
    "    plt.bar(forecast_part.index, forecast_part, bottom=bottom[combined_data.index >= 2023], color=color, alpha=0.5)\n",
    "\n",
    "    bottom[combined_data.index <= 2022] += historical_part.values\n",
    "    bottom[combined_data.index >= 2023] += forecast_part.values\n",
    "\n",
    "plt.axvline(x=2022.5, color='black', linestyle='--', linewidth=1, label='Start of Forecast Data')\n",
    "\n",
    "plt.title('Nuclear Electricity Production by Region (Historical & Forecast)', fontsize=16, fontweight='bold')\n",
    "plt.ylabel('Electricity Production (TWh)', fontsize=14)\n",
    "plt.xlabel('Year', fontsize=14)\n",
    "plt.xticks(rotation=45)\n",
    "plt.xlim(left=1984)\n",
    "plt.legend(loc='upper left')\n",
    "plt.grid(True, linestyle='--', which='both', color='grey', alpha=0.5)\n",
    "plt.tight_layout()\n",
    "\n",
    "plt.show()"
   ]
  },
  {
   "cell_type": "code",
   "execution_count": null,
   "metadata": {},
   "outputs": [],
   "source": [
    "data_F = combined_data.loc[2030] if 2030 in combined_data.index else \"No data available for 2030\"\n",
    "\n",
    "data_F\n"
   ]
  }
 ],
 "metadata": {
  "kernelspec": {
   "display_name": "Python 3",
   "language": "python",
   "name": "python3"
  },
  "language_info": {
   "codemirror_mode": {
    "name": "ipython",
    "version": 3
   },
   "file_extension": ".py",
   "mimetype": "text/x-python",
   "name": "python",
   "nbconvert_exporter": "python",
   "pygments_lexer": "ipython3",
   "version": "3.11.7"
  }
 },
 "nbformat": 4,
 "nbformat_minor": 2
}
