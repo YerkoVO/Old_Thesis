{
 "cells": [
  {
   "cell_type": "code",
   "execution_count": null,
   "metadata": {},
   "outputs": [],
   "source": [
    "import pandas as pd\n",
    "import matplotlib.pyplot as plt"
   ]
  },
  {
   "cell_type": "code",
   "execution_count": null,
   "metadata": {},
   "outputs": [],
   "source": [
    "df = pd.read_csv(\"C:/Users/Yerko/Desktop/datasets/Owid.csv\")\n",
    "print(df.head)"
   ]
  },
  {
   "cell_type": "code",
   "execution_count": null,
   "metadata": {},
   "outputs": [],
   "source": [
    "colores_crema_ajustados = ['#f3e9d2', '#f3d4a0', '#e4c580', '#d4b26f', '#c4a55f', '#b4954f', '#a4853f']\n",
    "\n",
    "data_world_electricity = df[df['country'] == 'World'][['year', 'electricity_generation']]\n",
    "\n",
    "data_world_electricity.dropna(subset=['electricity_generation'], inplace=True)\n",
    "\n",
    "plt.figure(figsize=(18, 10))\n",
    "plt.plot(data_world_electricity['year'], data_world_electricity['electricity_generation'], color=colores_crema_ajustados[2], linestyle='-')\n",
    "\n",
    "plt.title('World Electricity Production', fontsize=14, fontweight='bold')\n",
    "plt.xlabel('Year', fontsize=12)\n",
    "plt.xlim(left=1985)\n",
    "plt.ylim(bottom=10000)\n",
    "plt.ylabel('Electricity Generation (TWh)', fontsize=12)\n",
    "plt.grid(True, which='both', linestyle='--', linewidth=0.5)\n",
    "plt.tight_layout()\n",
    "\n",
    "plt.show()"
   ]
  },
  {
   "cell_type": "code",
   "execution_count": null,
   "metadata": {},
   "outputs": [],
   "source": [
    "forecast_path = \"C:/Users/Yerko/Desktop/results/World_Electricity_Forecast.csv\"\n",
    "df_forecast = pd.read_csv(forecast_path)\n",
    "\n",
    "df_forecast.head()"
   ]
  },
  {
   "cell_type": "code",
   "execution_count": null,
   "metadata": {},
   "outputs": [],
   "source": [
    "\n",
    "data_world_electricity.rename(columns={\"year\": \"Year\"}, inplace=True)\n",
    "df_forecast.rename(columns={\"mean\": \"electricity_generation\"}, inplace=True)\n",
    "\n",
    "combined_data = pd.concat([data_world_electricity, df_forecast[['Year', 'electricity_generation']]])\n",
    "\n",
    "first_forecast_year = df_forecast['Year'].min()\n",
    "\n",
    "color_crema_ajustado = '#e4c580'\n",
    "\n",
    "combined_data_sorted = combined_data.sort_values(by='Year')\n",
    "\n",
    "plt.figure(figsize=(18, 10))\n",
    "\n",
    "plt.plot(combined_data_sorted['Year'], combined_data_sorted['electricity_generation'],\n",
    "         color=color_crema_ajustado, linestyle='-', label='Historical & Forecast Data')\n",
    "\n",
    "plt.axvline(x=first_forecast_year, color='black', linestyle='--', linewidth=1, label='Start of Forecast Data')\n",
    "\n",
    "plt.title('World Electricity Production (Historical & Forecast)', fontsize=14, fontweight='bold')\n",
    "plt.xlabel('Year', fontsize=12)\n",
    "plt.xlim(left=1985)  \n",
    "plt.ylim(bottom=10000)  \n",
    "plt.ylabel('Electricity Production (TWh)', fontsize=12)\n",
    "plt.grid(True, which='both', linestyle='--', linewidth=0.5)\n",
    "plt.legend()  \n",
    "plt.tight_layout()  \n",
    "\n",
    "plt.show()\n"
   ]
  },
  {
   "cell_type": "code",
   "execution_count": null,
   "metadata": {},
   "outputs": [],
   "source": [
    "data_2030 = df_forecast[df_forecast['Year'] == 2030]['electricity_generation'].values[0]\n",
    "data_2050 = df_forecast[df_forecast['Year'] == 2050]['electricity_generation'].values[0]\n",
    "\n",
    "f\"2030: {data_2030} TWh\", f\"2050: {data_2050} TWh\"\n"
   ]
  }
 ],
 "metadata": {
  "kernelspec": {
   "display_name": "Python 3",
   "language": "python",
   "name": "python3"
  },
  "language_info": {
   "codemirror_mode": {
    "name": "ipython",
    "version": 3
   },
   "file_extension": ".py",
   "mimetype": "text/x-python",
   "name": "python",
   "nbconvert_exporter": "python",
   "pygments_lexer": "ipython3",
   "version": "3.11.7"
  }
 },
 "nbformat": 4,
 "nbformat_minor": 2
}
