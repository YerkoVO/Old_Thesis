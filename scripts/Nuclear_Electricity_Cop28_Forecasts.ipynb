{
 "cells": [
  {
   "cell_type": "code",
   "execution_count": null,
   "metadata": {},
   "outputs": [],
   "source": [
    "import pandas as pd\n",
    "import numpy as np"
   ]
  },
  {
   "cell_type": "code",
   "execution_count": null,
   "metadata": {},
   "outputs": [],
   "source": [
    "df = pd.read_csv(\"C:/Users/Yerko/Desktop/datasets/Owid.csv\")\n",
    "print(df.head)"
   ]
  },
  {
   "cell_type": "code",
   "execution_count": null,
   "metadata": {},
   "outputs": [],
   "source": [
    "Cop_28 = [\n",
    "    \"United States\", \"Armenia\", \"Bulgaria\", \"Canada\", \"Croatia\", \"Czechia\", \n",
    "    \"Finland\", \"France\", \"Ghana\", \"Hungary\", \"Jamaica\", \"Japan\", \"South Korea\", \n",
    "    \"Moldova\", \"Mongolia\", \"Morocco\", \"Netherlands\", \"Poland\", \"Romania\", \"Slovakia\", \n",
    "    \"Slovenia\", \"Sweden\", \"Ukraine\", \"United Arab Emirates\", \"United Kingdom\"\n",
    "]\n",
    "\n",
    "forecast_years = np.arange(2023, 2051)\n",
    "forecasts_df = pd.DataFrame(index=forecast_years)\n"
   ]
  },
  {
   "cell_type": "code",
   "execution_count": null,
   "metadata": {},
   "outputs": [],
   "source": [
    "for country in Cop_28:\n",
    "    country_data = df[(df['country'] == country) & (df['year'] >= 1985)]\n",
    "    if not country_data.empty:\n",
    "        last_recorded_value = country_data.set_index('year')['nuclear_electricity'].iloc[-1]\n",
    "\n",
    "        years_to_2050 = 2050 - 2022\n",
    "        target_value_2050 = 3 * last_recorded_value\n",
    "        if last_recorded_value > 0:\n",
    "            annual_growth_rate = (target_value_2050 / last_recorded_value) ** (1 / years_to_2050)\n",
    "        else:\n",
    "            annual_growth_rate = 0\n",
    "        \n",
    "        adjusted_forecasts = last_recorded_value * (annual_growth_rate ** (forecast_years - 2022))\n",
    "        forecasts_df[country] = adjusted_forecasts\n",
    "        \n",
    "forecasts_df.reset_index(inplace=True)\n",
    "forecasts_df.rename(columns={'index': 'Year'}, inplace=True)\n",
    "\n",
    "csv_path = \"C:/Users/Yerko/Desktop/results/Nuclear_Electricity_Cop28_Forecasts.csv\"\n",
    "forecasts_df.to_csv(csv_path)\n",
    "\n",
    "csv_path"
   ]
  }
 ],
 "metadata": {
  "kernelspec": {
   "display_name": "Python 3",
   "language": "python",
   "name": "python3"
  },
  "language_info": {
   "codemirror_mode": {
    "name": "ipython",
    "version": 3
   },
   "file_extension": ".py",
   "mimetype": "text/x-python",
   "name": "python",
   "nbconvert_exporter": "python",
   "pygments_lexer": "ipython3",
   "version": "3.11.7"
  }
 },
 "nbformat": 4,
 "nbformat_minor": 2
}
