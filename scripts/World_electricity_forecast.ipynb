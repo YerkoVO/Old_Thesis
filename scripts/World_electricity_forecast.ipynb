{
 "cells": [
  {
   "cell_type": "code",
   "execution_count": null,
   "metadata": {},
   "outputs": [],
   "source": [
    "import pandas as pd\n",
    "import matplotlib.pyplot as plt"
   ]
  },
  {
   "cell_type": "code",
   "execution_count": null,
   "metadata": {},
   "outputs": [],
   "source": [
    "\n",
    "cop28_data_path = \"C:/Users/Yerko/Desktop/results/Nuclear_Electricity_Cop28_Forecasts.csv\"\n",
    "world_data_path = \"C:/Users/Yerko/Desktop/results/Nuclear_Electricity_World_Forecasts.csv\"\n",
    "\n",
    "cop28_data = pd.read_csv(cop28_data_path)\n",
    "world_data = pd.read_csv(world_data_path)\n",
    "\n",
    "cop28_data.head(), cop28_data.columns, world_data.head(), world_data.columns"
   ]
  },
  {
   "cell_type": "code",
   "execution_count": null,
   "metadata": {},
   "outputs": [],
   "source": [
    "regions = {\n",
    "    'Africa': [],\n",
    "    'Asia': [],\n",
    "    'Russia': ['Russia'],\n",
    "    'North America': [],\n",
    "    'South America': [],\n",
    "    'East Europe': [],\n",
    "    'West Europe': []\n",
    "}\n",
    "\n",
    "regions['Africa'] = ['Algeria', 'Angola', 'Benin', 'Botswana', 'Burkina Faso', 'Burundi', 'Cameroon', 'Cape Verde',\n",
    "                     'Central African Republic', 'Chad', 'Comoros', 'Congo', 'Djibouti', 'Egypt', 'Equatorial Guinea',\n",
    "                     'Eritrea', 'Eswatini', 'Ethiopia', 'Gabon', 'Gambia', 'Ghana', 'Guinea', 'Guinea-Bissau', 'Ivory Coast',\n",
    "                     'Kenya', 'Lesotho', 'Liberia', 'Libya', 'Madagascar', 'Malawi', 'Mali', 'Mauritania', 'Mauritius',\n",
    "                     'Morocco', 'Mozambique', 'Namibia', 'Niger', 'Nigeria', 'Rwanda', 'Sao Tome and Principe', 'Senegal',\n",
    "                     'Seychelles', 'Sierra Leone', 'Somalia', 'South Africa', 'South Sudan', 'Sudan', 'Tanzania', 'Togo',\n",
    "                     'Tunisia', 'Uganda', 'Zambia', 'Zimbabwe']\n",
    "regions['Asia'] = ['Afghanistan', 'Armenia', 'Azerbaijan', 'Bahrain', 'Bangladesh', 'Bhutan', 'Brunei', 'Cambodia',\n",
    "                   'China', 'Cyprus', 'Georgia', 'India', 'Indonesia', 'Iran', 'Iraq', 'Israel', 'Japan', 'Jordan',\n",
    "                   'Kazakhstan', 'Kuwait', 'Kyrgyzstan', 'Laos', 'Lebanon', 'Malaysia', 'Maldives', 'Mongolia',\n",
    "                   'Myanmar', 'Nepal', 'North Korea', 'Oman', 'Pakistan', 'Palestine', 'Philippines', 'Qatar', 'Saudi Arabia',\n",
    "                   'Singapore', 'South Korea', 'Sri Lanka', 'Syria', 'Taiwan', 'Tajikistan', 'Thailand', 'Timor-Leste',\n",
    "                   'Turkey', 'Turkmenistan', 'United Arab Emirates', 'Uzbekistan', 'Vietnam', 'Yemen']\n",
    "regions['North America'] = ['Canada', 'United States', 'Mexico', 'Greenland', 'Bermuda']\n",
    "regions['South America'] = ['Argentina', 'Bolivia', 'Brazil', 'Chile', 'Colombia', 'Ecuador', 'Guyana', 'Paraguay', 'Peru',\n",
    "                            'Suriname', 'Uruguay', 'Venezuela']\n",
    "regions['East Europe'] = ['Albania', 'Bosnia and Herzegovina', 'Bulgaria', 'Croatia', 'Czechia', 'Estonia', 'Hungary',\n",
    "                          'Kosovo', 'Latvia', 'Lithuania', 'Macedonia', 'Moldova', 'Montenegro', 'Poland', 'Romania', \n",
    "                          'Serbia', 'Slovakia', 'Slovenia', 'Ukraine', 'Belarus']\n",
    "regions['West Europe'] = ['Austria', 'Belgium', 'Cyprus', 'Denmark', 'Finland', 'France', 'Germany', 'Greece', 'Iceland',\n",
    "                          'Ireland', 'Italy', 'Luxembourg', 'Malta', 'Netherlands', 'Norway', 'Portugal', 'Spain', 'Sweden',\n",
    "                          'Switzerland', 'United Kingdom']\n",
    "\n",
    "country_to_region = {country: region for region, countries in regions.items() for country in countries}\n",
    "\n",
    "country_to_region\n"
   ]
  },
  {
   "cell_type": "code",
   "execution_count": null,
   "metadata": {},
   "outputs": [],
   "source": [
    "\n",
    "updated_world_data = world_data.copy()\n",
    "\n",
    "for country in cop28_data.columns[1:]:  \n",
    "    if country in country_to_region:\n",
    "        region = country_to_region[country]\n",
    "        updated_world_data[region] += cop28_data[country].values\n",
    "\n",
    "updated_world_data\n"
   ]
  },
  {
   "cell_type": "code",
   "execution_count": null,
   "metadata": {},
   "outputs": [],
   "source": [
    "updated_csv_path = \"C:/Users/Yerko/Desktop/results/Updated_Nuclear_Electricity_Forecasts.csv\"\n",
    "updated_world_data.to_csv(updated_csv_path, index=False)\n",
    "\n",
    "updated_csv_path\n"
   ]
  }
 ],
 "metadata": {
  "kernelspec": {
   "display_name": "Python 3",
   "language": "python",
   "name": "python3"
  },
  "language_info": {
   "codemirror_mode": {
    "name": "ipython",
    "version": 3
   },
   "file_extension": ".py",
   "mimetype": "text/x-python",
   "name": "python",
   "nbconvert_exporter": "python",
   "pygments_lexer": "ipython3",
   "version": "3.11.7"
  }
 },
 "nbformat": 4,
 "nbformat_minor": 2
}
