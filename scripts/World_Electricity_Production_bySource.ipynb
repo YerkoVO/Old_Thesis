{
 "cells": [
  {
   "cell_type": "code",
   "execution_count": null,
   "metadata": {},
   "outputs": [],
   "source": [
    "import pandas as pd\n",
    "import matplotlib.pyplot as plt"
   ]
  },
  {
   "cell_type": "code",
   "execution_count": null,
   "metadata": {},
   "outputs": [],
   "source": [
    "df = pd.read_csv(\"C:/Users/Yerko/Desktop/DataSets/World_electricity.csv\")\n",
    "print(df.head)"
   ]
  },
  {
   "cell_type": "code",
   "execution_count": null,
   "metadata": {},
   "outputs": [],
   "source": [
    "\n",
    "df_filled = df.fillna(0)\n",
    "df_filled.set_index('Year', inplace=True)\n",
    "\n",
    "adjusted_cream_colors = ['#62350E', '#BC2424', '#9581C9', '#DAF7A6',\n",
    "                         '#3A80F5', '#87D7CD', '#F5F16E', '#E1C699']\n",
    "\n",
    "english_legends = [\n",
    "    'Coal Electricity',\n",
    "    'Oil Electricity',\n",
    "    'Gas Electricity',\n",
    "    'Nuclear Electricity',\n",
    "    'Hydroelectricity',\n",
    "    'Wind Electricity',\n",
    "    'Solar Electricity',\n",
    "    'Biofuel Electricity'\n",
    "]\n",
    "\n",
    "plt.figure(figsize=(12, 7))\n",
    "ax = plt.gca()\n",
    "plt.stackplot(df_filled.index, df_filled.iloc[:, :-1].T, labels=english_legends, colors=adjusted_cream_colors, edgecolor='none')\n",
    "plt.title('Global Electricity Production by Energy Source', fontsize=14, fontweight='bold')\n",
    "plt.ylabel('Electricity Production (TWh)', fontsize=12)\n",
    "plt.xlabel('Year', fontsize=12)\n",
    "plt.xlim(left=1985)\n",
    "ax.yaxis.tick_right()\n",
    "plt.legend(loc='upper left')\n",
    "plt.grid(True, linestyle='--', which='both', color='grey', alpha=0.5)\n",
    "plt.tight_layout()\n",
    "\n",
    "plt.show()\n"
   ]
  },
  {
   "cell_type": "code",
   "execution_count": null,
   "metadata": {},
   "outputs": [],
   "source": [
    "data_S = df_filled.iloc[:, :-1].loc[2021]\n",
    "\n",
    "print(\"Nuclear Electricity Production (in TWh):\")\n",
    "print(data_S)"
   ]
  },
  {
   "cell_type": "code",
   "execution_count": null,
   "metadata": {},
   "outputs": [],
   "source": [
    "total_production_s = data_S.sum()\n",
    "print(\"Total Nuclear Electricity Production (in TWh):\", total_production_s)"
   ]
  }
 ],
 "metadata": {
  "kernelspec": {
   "display_name": "Python 3",
   "language": "python",
   "name": "python3"
  },
  "language_info": {
   "codemirror_mode": {
    "name": "ipython",
    "version": 3
   },
   "file_extension": ".py",
   "mimetype": "text/x-python",
   "name": "python",
   "nbconvert_exporter": "python",
   "pygments_lexer": "ipython3",
   "version": "3.11.7"
  }
 },
 "nbformat": 4,
 "nbformat_minor": 2
}
